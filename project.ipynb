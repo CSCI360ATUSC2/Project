{
 "cells": [
  {
   "cell_type": "markdown",
   "id": "10a0955d",
   "metadata": {},
   "source": [
    "# Final project\n",
    "- Name:\n",
    "- USC ID:\n",
    "\n",
    "Notes: The goal of this project is to measure the storage capacity and robustness to noise of Hopfield-type Associative Memories. You should fill in the coding tasks in the ```TODO``` blocks like this:"
   ]
  },
  {
   "cell_type": "code",
   "execution_count": null,
   "id": "73aef28d",
   "metadata": {},
   "outputs": [],
   "source": [
    "# ===== TODO: xxxxx ===== #\n",
    "\n",
    "# ===== End of TODO: xxxxx ===== #"
   ]
  },
  {
   "cell_type": "markdown",
   "id": "7f539497",
   "metadata": {},
   "source": [
    "There are a couple of short answer questions in ```Extra Credit``` section. You can double click on ```Enter your answer here:``` to fill in your answers.\n",
    "\n",
    "You must submit Extra Credit along with your main project. If you submit Extra Credit Late, your whole project will be late.\n",
    "\n",
    "The project can be submitted until 11:59 PM of the day of the deadline with 20% penalty. Any change in the project after the deadline is considered late submission. One second late is late. The project is graded based on when it was submitted, not when it was finished. Homework late days cannot be used for the project."
   ]
  },
  {
   "cell_type": "code",
   "execution_count": null,
   "id": "72c364cb",
   "metadata": {},
   "outputs": [],
   "source": [
    "import numpy as np\n",
    "import matplotlib.pyplot as plt\n",
    "\n",
    "# ===== TODO (Optional) : import other libraries here ===== #\n",
    "\n",
    "# ===== End of TODO (Optional) : import other libraries here ===== #"
   ]
  },
  {
   "cell_type": "markdown",
   "id": "1354abf2",
   "metadata": {},
   "source": [
    "## Problem (a)"
   ]
  },
  {
   "cell_type": "code",
   "execution_count": null,
   "id": "3a721a78",
   "metadata": {},
   "outputs": [],
   "source": [
    "# Define constants\n",
    "K = 25 # (Optional) You can change this value\n",
    "S = 100 # number of neurons\n",
    "T_max = 100 # maxmimum number of iterations\n",
    "\n",
    "\n",
    "# Do the following K times\n",
    "overlap_list = []\n",
    "for _ in range(K):\n",
    "    for L in range(1, S + 1):\n",
    "        \n",
    "        # (a) i.\n",
    "        # ===== TODO: create a random matrix X, with random values of +1 or -1 with equal probability ===== #\n",
    "        X = None\n",
    "        # ===== End of TODO: create a random matrix X, with random values of +1 or -1 with equal probability ===== #\n",
    "        \n",
    "        # (a) ii.\n",
    "        # ===== TODO: Calculate W matrix ===== #\n",
    "        W = None\n",
    "        # ===== End of TODO: Calculate W matrix ===== #\n",
    "        \n",
    "        # (a) iii.\n",
    "        # ===== TODO: initial output pattern ===== #\n",
    "        a = None\n",
    "        # ===== End of TODO: initial output pattern ===== #\n",
    "        \n",
    "        # ===== TODO: Update `a` with `T_max` iterations until converge ===== #\n",
    "        \n",
    "        # ===== End of TODO: Update `a` with `T_max` iterations until converge ===== #\n",
    "\n",
    "        \n",
    "    # Store overlap\n",
    "    # ===== TODO: calculate overlap ===== #\n",
    "    overlap = None\n",
    "    # ===== End of TODO: calculate overlap ===== #\n",
    "\n",
    "    overlap_list.append(overlap)"
   ]
  },
  {
   "cell_type": "markdown",
   "id": "87c7155e",
   "metadata": {},
   "source": [
    "## Problem (b)"
   ]
  },
  {
   "cell_type": "code",
   "execution_count": null,
   "id": "e53801a9",
   "metadata": {},
   "outputs": [],
   "source": [
    "# ===== TODO: plot L vs. overlaps ===== #\n",
    "\n",
    "# ===== End of TODO: plot L vs. overlaps ===== #"
   ]
  },
  {
   "cell_type": "markdown",
   "id": "4610b785",
   "metadata": {},
   "source": [
    "## Problem (c)"
   ]
  },
  {
   "cell_type": "code",
   "execution_count": null,
   "id": "b09018ff",
   "metadata": {},
   "outputs": [],
   "source": [
    "# ===== TODO: repeat (a) and (b) with pseudo-inverse learning rule ===== #\n",
    "\n",
    "# ===== End of TODO: repeat (a) and (b) with pseudo-inverse learning rule ===== #"
   ]
  },
  {
   "cell_type": "markdown",
   "id": "bcd68315",
   "metadata": {},
   "source": [
    "## Problem (d)"
   ]
  },
  {
   "cell_type": "code",
   "execution_count": null,
   "id": "6720ebc8",
   "metadata": {},
   "outputs": [],
   "source": [
    "# ===== TODO: determine max number of patterns and alpha with both methods ===== #\n",
    "L_max_hebbian = None\n",
    "L_max_pseudo_inverse = None\n",
    "# ===== End of TODO: determine max number of patterns and alpha with both methods ===== #\n",
    "\n",
    "print(f\"With Hebbian method, the maxmimum number of patterns is {L_max_hebbian} and alpha is {L_max_hebbian / S}\")\n",
    "print(f\"With Pseudo-inverse method, the maxmimum number of patterns is {L_max_pseudo_inverse} and alpha is {L_max_pseudo_inverse / S}\")"
   ]
  },
  {
   "cell_type": "markdown",
   "id": "ea0919ac",
   "metadata": {},
   "source": [
    "## Extra Credit: Robustness to Noise and Bias\n",
    "### Problem (a)"
   ]
  },
  {
   "cell_type": "code",
   "execution_count": null,
   "id": "5e5969b2",
   "metadata": {},
   "outputs": [],
   "source": [
    "# ===== TODO: repeat (a) - (d), increase the prob. of +1 to 75% in X ===== #\n",
    "\n",
    "# ===== TODO: repeat (a) - (d), increase the prob. of +1 to 75% in X ===== #"
   ]
  },
  {
   "cell_type": "markdown",
   "id": "8c31efb1",
   "metadata": {},
   "source": [
    "#### What do biased patterns do to the storage capacity of the network?\n",
    "\n",
    "Enter your answer here:\n",
    "\n"
   ]
  },
  {
   "cell_type": "markdown",
   "id": "ed8cf255",
   "metadata": {},
   "source": [
    "### Problem (b)"
   ]
  },
  {
   "cell_type": "code",
   "execution_count": null,
   "id": "b980a73d",
   "metadata": {},
   "outputs": [],
   "source": [
    "# ===== TODO: repeat (a) - (d), when doing (a) iii, randomly flip 20% of the selected pattern randomly ===== #\n",
    "\n",
    "# ===== End of TODO: repeat (a) - (d), when doing (a) iii, randomly flip 20% of the selected pattern randomly ===== #"
   ]
  },
  {
   "cell_type": "markdown",
   "id": "a52e89f9",
   "metadata": {},
   "source": [
    "#### What does such noise do to the storage capacity of the network?\n",
    "\n",
    "Enter your answer here:"
   ]
  }
 ],
 "metadata": {
  "kernelspec": {
   "display_name": "Python 3 (ipykernel)",
   "language": "python",
   "name": "python3"
  },
  "language_info": {
   "codemirror_mode": {
    "name": "ipython",
    "version": 3
   },
   "file_extension": ".py",
   "mimetype": "text/x-python",
   "name": "python",
   "nbconvert_exporter": "python",
   "pygments_lexer": "ipython3",
   "version": "3.9.12"
  }
 },
 "nbformat": 4,
 "nbformat_minor": 5
}
